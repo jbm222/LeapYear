{
  "nbformat": 4,
  "nbformat_minor": 0,
  "metadata": {
    "colab": {
      "provenance": []
    },
    "kernelspec": {
      "name": "python3",
      "display_name": "Python 3"
    },
    "language_info": {
      "name": "python"
    }
  },
  "cells": [
    {
      "cell_type": "code",
      "execution_count": null,
      "metadata": {
        "colab": {
          "base_uri": "https://localhost:8080/"
        },
        "id": "_WAEdJWInfv0",
        "outputId": "0aae7cef-414d-429d-de8f-6c8ae4c08f4c"
      },
      "outputs": [
        {
          "output_type": "stream",
          "name": "stdout",
          "text": [
            "Enter a year:2020\n",
            "2020 is a leap year!\n"
          ]
        }
      ],
      "source": [
        "year= int(input(\"Enter a year:\"))\n",
        "if(year % 4 == 0 and year % 100 != 0) or ( year % 400 == 0):\n",
        "  print(f\"{year} is a leap year!\")\n",
        "else:\n",
        "  print(f\"{year} is not a leap year.\")"
      ]
    }
  ]
}